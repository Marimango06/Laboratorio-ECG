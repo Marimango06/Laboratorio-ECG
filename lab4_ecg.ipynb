{
  "nbformat": 4,
  "nbformat_minor": 0,
  "metadata": {
    "colab": {
      "provenance": [],
      "authorship_tag": "ABX9TyOF2BNoYPnXHAfQFl3dVIKb",
      "include_colab_link": true
    },
    "kernelspec": {
      "name": "python3",
      "display_name": "Python 3"
    },
    "language_info": {
      "name": "python"
    }
  },
  "cells": [
    {
      "cell_type": "markdown",
      "metadata": {
        "id": "view-in-github",
        "colab_type": "text"
      },
      "source": [
        "<a href=\"https://colab.research.google.com/github/Marimango06/Laboratorio-ECG/blob/main/lab4_ecg.ipynb\" target=\"_parent\"><img src=\"https://colab.research.google.com/assets/colab-badge.svg\" alt=\"Open In Colab\"/></a>"
      ]
    },
    {
      "cell_type": "code",
      "execution_count": null,
      "metadata": {
        "id": "v05lBtKb9aKz"
      },
      "outputs": [],
      "source": [
        "!pip install scipy\n",
        "!pip install matplotlib\n",
        "!pip install numpy\n",
        "!pip install google.drive\n",
        "!pip install wfdb\n",
        "!pip install pandas\n"
      ]
    },
    {
      "cell_type": "code",
      "source": [
        "import numpy as np\n",
        "import matplotlib.pyplot as plt\n",
        "import scipy as sp\n",
        "import scipy.signal as signal\n",
        "from scipy import stats\n",
        "import google.colab as drive\n",
        "import pandas as pd\n",
        "import scipy.fftpack as fourier\n",
        "from google.colab import drive"
      ],
      "metadata": {
        "id": "fgmPQbcO97L6"
      },
      "execution_count": null,
      "outputs": []
    },
    {
      "cell_type": "code",
      "source": [
        "#aplicacion del filtro pasa banda\n",
        "\n",
        "# diseño del filtro\n",
        "def diseño_filtro_pasabanda(fs,fc,Q,order=4):\n",
        "  w0=fc/(fs/2)\n",
        "  bw= fc / Q\n",
        "  fs0=fc-bw/2\n",
        "  fsc=fc+bw/2\n",
        "  wn=[fs0/(fs/2),fsc/(fs/2)]\n",
        "  b, a= signal.butter(order,wn,btype='bandpass')\n",
        "  return b,a\n",
        "\n",
        "## aplicar filtro\n",
        "def aplicar_filtro(x,fs,fc,Q,order=4):\n",
        "  b,a=diseño_filtro_pasabanda(fs,fc,Q,order)\n",
        "  y=signal.filtfilt(b,a,x)\n",
        "  return y\n",
        "\n",
        "##importacion de la señal\n",
        "x, y=np.loadtxt('PruebaJose1.txt',skiprows=1, unpack=True,delimiter=',',encoding='latin-1')\n",
        "print(x)\n",
        "print(y)\n",
        "plt.plot(x,y, color='#6833ff')\n",
        "plt.xlabel('tiempo(s)')\n",
        "plt.ylabel('Voltaje(mV)')\n",
        "plt.title('Electromiograma sin filtrar')\n",
        "plt.show()\n",
        "#aplicacion del filtro\n",
        "fs=250\n",
        "fc=10\n",
        "Q=1\n",
        "y=aplicar_filtro(y,fs,fc,Q)\n",
        "plt.plot(x,y, color='#6833ff')\n",
        "plt.xlabel('tiempo(s)')\n",
        "plt.ylabel('Voltaje(mV)')\n",
        "plt.title('Electromiograma filtrado')\n",
        "plt.show()"
      ],
      "metadata": {
        "id": "nQZmP8_K990i"
      },
      "execution_count": null,
      "outputs": []
    }
  ]
}